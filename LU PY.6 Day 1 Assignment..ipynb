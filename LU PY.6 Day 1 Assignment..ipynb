{
 "cells": [
  {
   "cell_type": "markdown",
   "metadata": {},
   "source": [
    "# Assignment Day 1"
   ]
  },
  {
   "cell_type": "markdown",
   "metadata": {},
   "source": [
    "1) What is python? What are different ways to install python?\n",
    "\n",
    "ANS - Python is an object oriented, simple, interpreted, high level programming language. It is easy to learn and syntax emphasis readability and therefore reduce the cost of program maintenance. It is created by Guido Van Rossum and first released in 1991.\n",
    "The ways of installation-\n",
    "Python can be installed either directly by going to python.org or you can install Anaconda from Anaconda.com which includes additional libraries along with python.\n",
    "\n"
   ]
  },
  {
   "cell_type": "markdown",
   "metadata": {},
   "source": [
    "2) What are code environments and it's types?\n",
    "\n",
    "ANS - Code environment is a place where we can write, compile and see the output all at one place. A code environment is a self-contained environment to run python code.\n",
    "\n",
    "There are 3 types of code environment-\n",
    "1)Text editors:- It is general purpose editor like visual vedios studio code.\n",
    "2) Integrated Development Environment:- It is a application which consists of editor, some automation tools and a debugger.\n",
    "3) Notebook Environment:- It is a application where we can write program code as well as the notes and can also give headlines."
   ]
  },
  {
   "cell_type": "code",
   "execution_count": null,
   "metadata": {},
   "outputs": [],
   "source": []
  }
 ],
 "metadata": {
  "kernelspec": {
   "display_name": "Python 3",
   "language": "python",
   "name": "python3"
  },
  "language_info": {
   "codemirror_mode": {
    "name": "ipython",
    "version": 3
   },
   "file_extension": ".py",
   "mimetype": "text/x-python",
   "name": "python",
   "nbconvert_exporter": "python",
   "pygments_lexer": "ipython3",
   "version": "3.7.6"
  }
 },
 "nbformat": 4,
 "nbformat_minor": 4
}
