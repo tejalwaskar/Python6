{
 "cells": [
  {
   "cell_type": "markdown",
   "metadata": {},
   "source": [
    "# Assignment 1"
   ]
  },
  {
   "cell_type": "markdown",
   "metadata": {},
   "source": [
    "Q.1) Use the dictionary, port1 = {21: \"FTP\", 22: \"SSH\", 23: \"telnet\", 80: \"http\"},\n",
    "     and make a new dictionary in which keys become values and values become keys,\n",
    "     as shown: port2 = {\"FTP\": 21, \"SSH\": 22, \"telnet\": 23, \"http\": 80}"
   ]
  },
  {
   "cell_type": "code",
   "execution_count": 2,
   "metadata": {},
   "outputs": [
    {
     "name": "stdout",
     "output_type": "stream",
     "text": [
      "The output is: {'FTP': 21, 'SSH': 22, 'telnet': 23, 'http': 80}\n"
     ]
    }
   ],
   "source": [
    "port1 = {21:\"FTP\", 22:\"SSH\", 23:\"telnet\", 80:\"http\"}\n",
    "port2 = {value:key for key,value in port1.items()}\n",
    "print(\"The output is:\",port2)"
   ]
  },
  {
   "cell_type": "markdown",
   "metadata": {},
   "source": [
    "# Assigment 2"
   ]
  },
  {
   "cell_type": "markdown",
   "metadata": {},
   "source": [
    "Q.2) Take a list of tuple as shown below:\n",
    "     [(1,2),(3,4),(5,6),(4,5)]\n",
    "     make a new list which contain sum of number of tuples."
   ]
  },
  {
   "cell_type": "code",
   "execution_count": 3,
   "metadata": {},
   "outputs": [
    {
     "name": "stdout",
     "output_type": "stream",
     "text": [
      "The sum of number of tuples: [3, 7, 11, 9]\n"
     ]
    }
   ],
   "source": [
    "list1 = [(1,2), (3,4), (5,6), (4,5)]\n",
    "res = [sum(i) for i in list1 ]\n",
    "print(\"The sum of number of tuples:\",res)"
   ]
  },
  {
   "cell_type": "markdown",
   "metadata": {},
   "source": [
    "# Assignment 3"
   ]
  },
  {
   "cell_type": "markdown",
   "metadata": {},
   "source": [
    "Q.3) Take a list as shown below :\n",
    "     [ (1,2,3),[1,2],['a','hit','less] ]\n",
    "     The list contains tuple and lists. Make the elements of innerlists and tuples to outer list."
   ]
  },
  {
   "cell_type": "code",
   "execution_count": 4,
   "metadata": {},
   "outputs": [
    {
     "name": "stdout",
     "output_type": "stream",
     "text": [
      "The output is: [1, 2, 3, 1, 2, 'a', 'hit', 'less']\n"
     ]
    }
   ],
   "source": [
    "list1 = [(1,2,3),[1,2],['a', 'hit', 'less']]\n",
    "list2 = []\n",
    "list2 = [i for each in list1 for i in each]\n",
    "print(\"The output is:\", list2)"
   ]
  },
  {
   "cell_type": "code",
   "execution_count": null,
   "metadata": {},
   "outputs": [],
   "source": []
  }
 ],
 "metadata": {
  "kernelspec": {
   "display_name": "Python 3",
   "language": "python",
   "name": "python3"
  },
  "language_info": {
   "codemirror_mode": {
    "name": "ipython",
    "version": 3
   },
   "file_extension": ".py",
   "mimetype": "text/x-python",
   "name": "python",
   "nbconvert_exporter": "python",
   "pygments_lexer": "ipython3",
   "version": "3.7.6"
  }
 },
 "nbformat": 4,
 "nbformat_minor": 4
}
