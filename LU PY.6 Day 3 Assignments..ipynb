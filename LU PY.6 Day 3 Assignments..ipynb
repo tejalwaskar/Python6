{
 "cells": [
  {
   "cell_type": "markdown",
   "metadata": {},
   "source": [
    "# Assignment 1"
   ]
  },
  {
   "cell_type": "markdown",
   "metadata": {},
   "source": [
    "1) sum of n numbers using while loop"
   ]
  },
  {
   "cell_type": "code",
   "execution_count": 3,
   "metadata": {},
   "outputs": [
    {
     "name": "stdout",
     "output_type": "stream",
     "text": [
      "Enter the value1\n",
      "1\n",
      "Enter the value2\n",
      "3\n",
      "Enter the value3\n",
      "6\n",
      "Enter the value4\n",
      "10\n",
      "Enter the value5\n",
      "15\n",
      "Enter the value6\n",
      "21\n",
      "Enter the value7\n",
      "28\n",
      "Enter the value8\n",
      "36\n",
      "Enter the value9\n",
      "45\n",
      "Enter the value0\n",
      "45\n",
      "Sum of number is 45\n"
     ]
    }
   ],
   "source": [
    "sum1=0\n",
    "while True:\n",
    "    num1=int(input(\"Enter the value\"))\n",
    "    sum1=sum1+num1\n",
    "    print(sum1)\n",
    "    if num1==0:\n",
    "        break\n",
    "print(\"Sum of number is\", sum1)"
   ]
  },
  {
   "cell_type": "markdown",
   "metadata": {},
   "source": [
    "# Assignment 2"
   ]
  },
  {
   "cell_type": "markdown",
   "metadata": {},
   "source": [
    "2) Take a number and find out it is prime or not"
   ]
  },
  {
   "cell_type": "code",
   "execution_count": 2,
   "metadata": {},
   "outputs": [
    {
     "name": "stdout",
     "output_type": "stream",
     "text": [
      "Enter a numbr11\n",
      "Prime\n"
     ]
    }
   ],
   "source": [
    "num=int(input(\"Enter a numbr\"))\n",
    "for i in range(2,num):\n",
    "    if num%i==0:\n",
    "        print(\"Not prime\")\n",
    "        break\n",
    "else:\n",
    "    print(\"Prime\")"
   ]
  },
  {
   "cell_type": "code",
   "execution_count": null,
   "metadata": {},
   "outputs": [],
   "source": []
  }
 ],
 "metadata": {
  "kernelspec": {
   "display_name": "Python 3",
   "language": "python",
   "name": "python3"
  },
  "language_info": {
   "codemirror_mode": {
    "name": "ipython",
    "version": 3
   },
   "file_extension": ".py",
   "mimetype": "text/x-python",
   "name": "python",
   "nbconvert_exporter": "python",
   "pygments_lexer": "ipython3",
   "version": "3.7.6"
  }
 },
 "nbformat": 4,
 "nbformat_minor": 4
}
